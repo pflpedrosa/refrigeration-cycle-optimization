{
 "cells": [
  {
   "cell_type": "code",
   "execution_count": 2,
   "metadata": {},
   "outputs": [],
   "source": [
    "# Importando as bibliotecas\n",
    "from CoolProp.CoolProp import PropsSI, PhaseSI\n",
    "import pprint\n",
    "import pandas as pd\n",
    "import matplotlib.pyplot as plt"
   ]
  },
  {
   "cell_type": "code",
   "execution_count": 3,
   "metadata": {},
   "outputs": [],
   "source": [
    "# Variaveis de entrada\n",
    "input_values = {\n",
    "    't_external_env': 35 + 273.15,\n",
    "    't_internal_env': 18 + 273.15,\n",
    "    'approach_condenser': 10,\n",
    "    'approach_evaporator': 10,\n",
    "    'q_evaporator': 9000 * 0.293071,\n",
    "    'isentropic_efficiency': 0.7\n",
    "}\n",
    "\n",
    "input_ranges = {\n",
    "    # 'superheating_range': range(5,11),\n",
    "    # 'subcooling_range': range(5,11),\n",
    "    # 'refrigerants': ['R134a', 'R22', 'R290', 'R600a', 'R1234yf', 'NH3']\n",
    "    'superheating_range': range(5,6),\n",
    "    'subcooling_range': range(5,11),\n",
    "    'refrigerants': ['R134a', 'R22']\n",
    "}\n",
    "\n",
    "input_values['cop_carnot'] = input_values['t_internal_env'] / (input_values['t_external_env'] - input_values['t_internal_env'])"
   ]
  },
  {
   "cell_type": "code",
   "execution_count": 4,
   "metadata": {},
   "outputs": [],
   "source": [
    "# Calcula qualquer ponto informando dicionario com duas variaveis\n",
    "def calculate_point(point):\n",
    "    variables = ['T', 'H', 'S', 'Q', 'P']\n",
    "    input_variables = list(point.keys())\n",
    "    output_variables = [variable for variable in variables if variable not in input_variables]\n",
    "    output_values = PropsSI(output_variables, \n",
    "                            input_variables[0], \n",
    "                            point[input_variables[0]], \n",
    "                            input_variables[1], \n",
    "                            point[input_variables[1]], \n",
    "                            input_values['refrigerant']\n",
    "    )\n",
    "\n",
    "    for index, variable in enumerate(output_variables):\n",
    "        point[variable] = output_values[index]\n",
    "\n",
    "    return point"
   ]
  },
  {
   "cell_type": "code",
   "execution_count": 5,
   "metadata": {},
   "outputs": [],
   "source": [
    "# Calcula ciclo baseado nas variaveis de entrada\n",
    "def calculate_cycle(cycle_inputs):\n",
    "    point_1_saturado = {'Q': 1, 'T': cycle_inputs['t_internal_env'] - cycle_inputs['approach_evaporator']}\n",
    "    calculate_point(point_1_saturado)\n",
    "\n",
    "    point_1 = {'P': point_1_saturado['P'], 'T': point_1_saturado['T'] + cycle_inputs['superheating']}\n",
    "    calculate_point(point_1)\n",
    "\n",
    "    point_3_saturado = {'Q': 0, 'T': cycle_inputs['t_external_env'] + cycle_inputs['approach_condenser']}\n",
    "    calculate_point(point_3_saturado)\n",
    "\n",
    "    point_3 = {'P': point_3_saturado['P'], 'T': point_3_saturado['T'] - cycle_inputs['subcooling']}\n",
    "    calculate_point(point_3)\n",
    "\n",
    "    point_2_isen = {'S': point_1['S'], 'P': point_3['P']}\n",
    "    calculate_point(point_2_isen)\n",
    "\n",
    "    point_2 = point_2_isen\n",
    "    point_2['H'] = point_1['H'] + (point_2_isen['H'] - point_1['H']) / cycle_inputs['isentropic_efficiency']\n",
    "\n",
    "    point_4 = {'H': point_3['H']}\n",
    "\n",
    "    m = cycle_inputs['q_evaporator'] / (point_1['H'] - point_4['H'])\n",
    "    cop = (point_1['H'] - point_4['H']) / (point_2['H'] - point_1['H']) \n",
    "\n",
    "    return {\n",
    "        'cycle_inputs': cycle_inputs,\n",
    "        'point_1': point_1,\n",
    "        'point_2': point_2,\n",
    "        'point_3': point_3,\n",
    "        'point_4': point_4,\n",
    "        'm': m,\n",
    "        'cop': cop,\n",
    "        'exergy_efficiency': cop / cycle_inputs['cop_carnot']\n",
    "    }"
   ]
  },
  {
   "cell_type": "code",
   "execution_count": 6,
   "metadata": {},
   "outputs": [],
   "source": [
    "# Calcula melhor ciclo baseado nas variaveis de entrada e ranges de entrada\n",
    "def calculate_best_cycle(cycle_inputs, cycle_ranges):\n",
    "    results = pd.DataFrame(columns=['refrigerant', 'subcooling', 'superheating', 'cop'])\n",
    "    result_by_cop = {}\n",
    "    cops = []\n",
    "    for subcooling in input_ranges['subcooling_range']:\n",
    "        for refrigerant in input_ranges['refrigerants']:\n",
    "            for superheating in input_ranges['superheating_range']:\n",
    "                input_values['subcooling'] = subcooling\n",
    "                input_values['refrigerant'] = refrigerant\n",
    "                input_values['superheating'] = superheating\n",
    "                cycle = calculate_cycle(input_values)   \n",
    "                results = results.append({\n",
    "                    'refrigerant': refrigerant,\n",
    "                    'subcooling': subcooling,\n",
    "                    'superheating': superheating,\n",
    "                    'cop': cycle['cop']\n",
    "                }, ignore_index=True)\n",
    "                result_by_cop[cycle['cop']] = cycle\n",
    "                cops.append(cycle['cop'])\n",
    "    return results, result_by_cop[max(cops)]"
   ]
  },
  {
   "cell_type": "code",
   "execution_count": 9,
   "metadata": {},
   "outputs": [],
   "source": [
    "def main():\n",
    "    results, best_cycle = calculate_best_cycle(input_values, input_ranges)\n",
    "    print('#'*30)\n",
    "    print('Refrigerant: ', best_cycle['cycle_inputs']['refrigerant'])\n",
    "    print('Subcooling: ', best_cycle['cycle_inputs']['subcooling'])\n",
    "    print('Superheating: ', best_cycle['cycle_inputs']['superheating'])\n",
    "    print('COP: ', best_cycle['cop'])\n",
    "    print('Exergy efficiency: ', best_cycle['exergy_efficiency'])\n",
    "    print('#'*30)\n",
    "    \n",
    "    results_R134a = results[results['refrigerant'] == 'R134a']\n",
    "    ax = plt.subplot()\n",
    "    for sh in results_R134a['superheating']:\n",
    "        r = results_R134a[results_R134a['superheating'] == sh]\n",
    "        ax.plot(r['subcooling'], r['cop'], 'o')\n",
    "    plt.show()"
   ]
  },
  {
   "cell_type": "code",
   "execution_count": 10,
   "metadata": {},
   "outputs": [
    {
     "name": "stdout",
     "output_type": "stream",
     "text": [
      "##############################\n",
      "Refrigerant:  R22\n",
      "Subcooling:  10\n",
      "Superheating:  5\n",
      "COP:  4.752158396324679\n",
      "Exergy efficiency:  0.27747447273748777\n",
      "##############################\n"
     ]
    },
    {
     "data": {
      "image/png": "[encoded data removed]",
      "text/plain": [
       "<Figure size 432x288 with 1 Axes>"
      ]
     },
     "metadata": {
      "needs_background": "light"
     },
     "output_type": "display_data"
    }
   ],
   "source": [
    "main()"
   ]
  }
 ],
 "metadata": {
  "kernelspec": {
   "display_name": "Python 3",
   "language": "python",
   "name": "python3"
  },
  "language_info": {
   "codemirror_mode": {
    "name": "ipython",
    "version": 3
   },
   "file_extension": ".py",
   "mimetype": "text/x-python",
   "name": "python",
   "nbconvert_exporter": "python",
   "pygments_lexer": "ipython3",
   "version": "3.8.1"
  }
 },
 "nbformat": 4,
 "nbformat_minor": 4
}
