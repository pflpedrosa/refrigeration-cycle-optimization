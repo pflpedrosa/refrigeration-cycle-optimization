{
 "cells": [
  {
   "cell_type": "code",
   "execution_count": 7,
   "id": "ac816e24",
   "metadata": {},
   "outputs": [
    {
     "name": "stdout",
     "output_type": "stream",
     "text": [
      "{'cop': 10.57, 'work': 250, 'q': 2638}\n"
     ]
    }
   ],
   "source": [
    "from cycles import calculate_basic_cycle\n",
    "\n",
    "input_values = {\n",
    "    't_external_env': 30 + 273.15,\n",
    "    't_internal_env': 21 + 273.15,\n",
    "    'approach_condenser': 5,\n",
    "    'approach_evaporator': 5,\n",
    "    'isentropic_efficiency': 0.7,\n",
    "    'subcooling': 10,\n",
    "    'superheating': 10,\n",
    "    'q_evaporator': 9000 * 0.293071,\n",
    "    'refrigerant': 'R600a'\n",
    "}\n",
    "\n",
    "cycle = calculate_basic_cycle(input_values)\n",
    "\n",
    "print({'cop': round(cycle['cop'], 2), 'work': round(cycle['work']), 'q': round(cycle['q_evaporator'])})"
   ]
  }
 ],
 "metadata": {
  "kernelspec": {
   "display_name": "Python 3 (ipykernel)",
   "language": "python",
   "name": "python3"
  },
  "language_info": {
   "codemirror_mode": {
    "name": "ipython",
    "version": 3
   },
   "file_extension": ".py",
   "mimetype": "text/x-python",
   "name": "python",
   "nbconvert_exporter": "python",
   "pygments_lexer": "ipython3",
   "version": "3.8.7"
  }
 },
 "nbformat": 4,
 "nbformat_minor": 5
}
