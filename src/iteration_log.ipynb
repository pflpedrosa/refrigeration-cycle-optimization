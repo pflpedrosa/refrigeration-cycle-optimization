{
 "cells": [
  {
   "cell_type": "code",
   "execution_count": 1,
   "id": "aaf16a90",
   "metadata": {},
   "outputs": [],
   "source": [
    "# Importing libraries\n",
    "import copy\n",
    "import pprint\n",
    "import pandas as pd\n",
    "import matplotlib.pyplot as plt\n",
    "import locale\n",
    "\n",
    "from optimization import optimize_basic_cycle, optimize_two_evaporators_cycle"
   ]
  },
  {
   "cell_type": "code",
   "execution_count": 2,
   "id": "a5bea137",
   "metadata": {},
   "outputs": [],
   "source": [
    "# Setting locale\n",
    "locale.setlocale(locale.LC_NUMERIC, \"pt_BR\")\n",
    "plt.rcParams['axes.formatter.use_locale'] = True"
   ]
  },
  {
   "cell_type": "code",
   "execution_count": 3,
   "id": "f78853f6",
   "metadata": {},
   "outputs": [
    {
     "name": "stdout",
     "output_type": "stream",
     "text": [
      "     iteration        cop\n",
      "0          0.0  11.422059\n",
      "1          1.0  11.461255\n",
      "2          2.0  11.500319\n",
      "3          3.0  11.539254\n",
      "4          4.0  11.578060\n",
      "..         ...        ...\n",
      "104      104.0  11.903205\n",
      "105      105.0  11.903667\n",
      "106      106.0  11.904129\n",
      "107      107.0  11.904593\n",
      "108      108.0  11.904724\n",
      "\n",
      "[109 rows x 2 columns]\n"
     ]
    },
    {
     "data": {
      "image/png": "[encoded data removed]",
      "text/plain": [
       "<Figure size 720x432 with 1 Axes>"
      ]
     },
     "metadata": {
      "needs_background": "light"
     },
     "output_type": "display_data"
    }
   ],
   "source": [
    "input_values = {\n",
    "    't_internal_env': 21 + 273.15,\n",
    "    't_external_env': 28 + 273.15,\n",
    "    'approach_condenser': 5,\n",
    "    'approach_evaporator': 5,\n",
    "    'q_evaporator': 9000 * 0.293071,\n",
    "    'isentropic_efficiency': 0.7,\n",
    "    'subcooling': 5,\n",
    "    'superheating': 5,\n",
    "    'upper_threshold': 10,\n",
    "    'lower_threshold': 0,\n",
    "    'refrigerant': 'R600a'\n",
    "}\n",
    "\n",
    "interation_log = optimize_basic_cycle(input_values, 'cop')\n",
    "print(interation_log)\n",
    "\n",
    "fig, ax = plt.subplots(figsize=(10, 6))\n",
    "interation_log.plot(\n",
    "    x='iteration', \n",
    "    y='cop', \n",
    "    kind='line',\n",
    "    color='blue',\n",
    "    ax=ax\n",
    ")\n",
    "ax.set_ylabel('COP')\n",
    "ax.set_xlabel('Iteração')\n",
    "ax.set_xticks([x * 10 for x in range(0, 12)])\n",
    "ax.set_yticks([11 + (x * 0.1) for x in range(4, 11)])\n",
    "ax.get_legend().remove()\n",
    "ax.grid(True)\n",
    "\n",
    "plt.savefig('images/iteration_log_basic_cycle.png')"
   ]
  },
  {
   "cell_type": "code",
   "execution_count": 4,
   "id": "d767f782",
   "metadata": {},
   "outputs": [
    {
     "name": "stdout",
     "output_type": "stream",
     "text": [
      "     iteration       cop\n",
      "0          0.0  2.569431\n",
      "1          1.0  2.572024\n",
      "2          2.0  2.574614\n",
      "3          3.0  2.577202\n",
      "4          4.0  2.579787\n",
      "..         ...       ...\n",
      "649      649.0  2.697916\n",
      "650      650.0  2.697928\n",
      "651      651.0  2.697940\n",
      "652      652.0  2.697952\n",
      "653      653.0  2.697953\n",
      "\n",
      "[654 rows x 2 columns]\n"
     ]
    },
    {
     "data": {
      "image/png": "[encoded data removed]",
      "text/plain": [
       "<Figure size 720x432 with 1 Axes>"
      ]
     },
     "metadata": {
      "needs_background": "light"
     },
     "output_type": "display_data"
    }
   ],
   "source": [
    "input_values = {\n",
    "    't_internal_env_ht': 3 + 273.15,\n",
    "    't_internal_env_lt': -18 + 273.15,\n",
    "    't_external_env': 28 + 273.15,\n",
    "    'approach_condenser': 5,\n",
    "    'approach_evaporator_ht': 5,\n",
    "    'approach_evaporator_lt': 5,\n",
    "    'q_evaporator_ht': 75,\n",
    "    'q_evaporator_lt': 75,\n",
    "    'f': 0.5,\n",
    "    'isentropic_efficiency': 0.7,\n",
    "    'subcooling': 5,\n",
    "    'superheating_ht': 5,\n",
    "    'superheating_lt': 5,\n",
    "    'upper_threshold': 10,\n",
    "    'lower_threshold': 0,\n",
    "    'refrigerant': 'R600a'\n",
    "}\n",
    "\n",
    "interation_log = optimize_two_evaporators_cycle(input_values, 'cop')\n",
    "interation_log.drop(interation_log.tail(1).index,inplace=True)\n",
    "print(interation_log)\n",
    "\n",
    "fig, ax = plt.subplots(figsize=(10, 6))\n",
    "interation_log.plot(\n",
    "    x='iteration', \n",
    "    y='cop', \n",
    "    kind='line',\n",
    "    color='blue',\n",
    "    ax=ax\n",
    ")\n",
    "ax.set_ylabel('COP')\n",
    "ax.set_xlabel('Iteração')\n",
    "ax.set_xticks([x * 50 for x in range(0, 15)])\n",
    "ax.set_yticks([2 + (x * 0.05) for x in range(11, 15)])\n",
    "ax.get_legend().remove()\n",
    "ax.grid(True)\n",
    "\n",
    "plt.savefig('images/iteration_log_two_evaporators_cycle.png')"
   ]
  }
 ],
 "metadata": {
  "kernelspec": {
   "display_name": "Python 3 (ipykernel)",
   "language": "python",
   "name": "python3"
  },
  "language_info": {
   "codemirror_mode": {
    "name": "ipython",
    "version": 3
   },
   "file_extension": ".py",
   "mimetype": "text/x-python",
   "name": "python",
   "nbconvert_exporter": "python",
   "pygments_lexer": "ipython3",
   "version": "3.8.7"
  }
 },
 "nbformat": 4,
 "nbformat_minor": 5
}
